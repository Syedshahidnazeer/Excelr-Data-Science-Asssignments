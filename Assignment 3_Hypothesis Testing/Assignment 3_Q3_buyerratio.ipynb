{
 "cells": [
  {
   "cell_type": "code",
   "execution_count": 1,
   "metadata": {},
   "outputs": [],
   "source": [
    "import pandas as pd\n",
    "import numpy as np\n",
    "from scipy import stats\n",
    "from scipy.stats import norm\n",
    "from scipy.stats import chi2_contingency"
   ]
  },
  {
   "cell_type": "code",
   "execution_count": 2,
   "metadata": {},
   "outputs": [
    {
     "data": {
      "text/html": [
       "<div><div id=1e2e9f42-4449-4200-a617-cde7d0035251 style=\"display:none; background-color:#9D6CFF; color:white; width:200px; height:30px; padding-left:5px; border-radius:4px; flex-direction:row; justify-content:space-around; align-items:center;\" onmouseover=\"this.style.backgroundColor='#BA9BF8'\" onmouseout=\"this.style.backgroundColor='#9D6CFF'\" onclick=\"window.commands?.execute('create-mitosheet-from-dataframe-output');\">See Full Dataframe in Mito</div> <script> if (window.commands?.hasCommand('create-mitosheet-from-dataframe-output')) document.getElementById('1e2e9f42-4449-4200-a617-cde7d0035251').style.display = 'flex' </script> <table border=\"1\" class=\"dataframe\">\n",
       "  <thead>\n",
       "    <tr style=\"text-align: right;\">\n",
       "      <th></th>\n",
       "      <th>Observed Values</th>\n",
       "      <th>East</th>\n",
       "      <th>West</th>\n",
       "      <th>North</th>\n",
       "      <th>South</th>\n",
       "    </tr>\n",
       "  </thead>\n",
       "  <tbody>\n",
       "    <tr>\n",
       "      <th>0</th>\n",
       "      <td>Males</td>\n",
       "      <td>50</td>\n",
       "      <td>142</td>\n",
       "      <td>131</td>\n",
       "      <td>70</td>\n",
       "    </tr>\n",
       "    <tr>\n",
       "      <th>1</th>\n",
       "      <td>Females</td>\n",
       "      <td>435</td>\n",
       "      <td>1523</td>\n",
       "      <td>1356</td>\n",
       "      <td>750</td>\n",
       "    </tr>\n",
       "  </tbody>\n",
       "</table></div>"
      ],
      "text/plain": [
       "  Observed Values  East  West  North  South\n",
       "0           Males    50   142    131     70\n",
       "1         Females   435  1523   1356    750"
      ]
     },
     "execution_count": 2,
     "metadata": {},
     "output_type": "execute_result"
    }
   ],
   "source": [
    "# load the dataset\n",
    "data=pd.read_csv('E:\\Assignment 3/BuyerRatio.csv')\n",
    "data"
   ]
  },
  {
   "cell_type": "code",
   "execution_count": 3,
   "metadata": {},
   "outputs": [],
   "source": [
    "# now let us denote what is our null hypothesis\n",
    "ho=\"All proportions are equal\"\n",
    "\n",
    "# now let us denote what is our alternative hypothesis\n",
    "ha=\"Not All proportions are equal\""
   ]
  },
  {
   "cell_type": "code",
   "execution_count": 4,
   "metadata": {},
   "outputs": [
    {
     "data": {
      "text/plain": [
       "array([[  50,  142,  131,   70],\n",
       "       [ 435, 1523, 1356,  750]])"
      ]
     },
     "execution_count": 4,
     "metadata": {},
     "output_type": "execute_result"
    }
   ],
   "source": [
    "# Make dimensional array\n",
    "obs=np.array([[50,142,131,70],[435,1523,1356,750]])\n",
    "obs"
   ]
  },
  {
   "cell_type": "code",
   "execution_count": 5,
   "metadata": {},
   "outputs": [
    {
     "data": {
      "text/plain": [
       "NotImplementedError(\"from statsmodels.stats.proportion import proportions_ztest\\n\\n# perform one proportion z-test\\nz_statistic, p_value = proportions_ztest(count=60, nobs=100, value=obs)\\n\\nprint('z_statistic: ' + str(z_statistic))\\nprint('p_value: ' + str(p_value))\")"
      ]
     },
     "execution_count": 5,
     "metadata": {},
     "output_type": "execute_result"
    }
   ],
   "source": [
    "\n",
    "NotImplementedError(\"\"\"from statsmodels.stats.proportion import proportions_ztest\n",
    "\n",
    "# perform one proportion z-test\n",
    "z_statistic, p_value = proportions_ztest(count=60, nobs=100, value=obs)\n",
    "\n",
    "print('z_statistic: ' + str(z_statistic))\n",
    "print('p_value: ' + str(p_value))\"\"\")\n",
    "# as given in the question i though of applying proportion test but after referring to notes and recorded lectures\n",
    "# proportion test is used to compare the proportion of successes in two group\n",
    "# where as the chi square can handle multiple groups of data and decide if there is any dependency or relation among them.\n",
    "# in this case there are two categories male and female chi2 can perform on categorical data\n",
    "# i had to go with chi2 test of hypoothesis on the buyersratio.csv"
   ]
  },
  {
   "cell_type": "code",
   "execution_count": 6,
   "metadata": {},
   "outputs": [
    {
     "name": "stdout",
     "output_type": "stream",
     "text": [
      "Chi2 value: 1.5959\n",
      "P-value: 0.6603\n"
     ]
    }
   ],
   "source": [
    "chi2, p, dof, expectedobs = chi2_contingency(obs)\n",
    "print(f\"Chi2 value: {chi2:.4f}\")\n",
    "print(f\"P-value: {p:.4f}\")"
   ]
  },
  {
   "cell_type": "code",
   "execution_count": 7,
   "metadata": {},
   "outputs": [
    {
     "data": {
      "text/plain": [
       "'As there is no value given in the data of level of significance we have to  go with the default value i.e level of significance=5%'"
      ]
     },
     "execution_count": 7,
     "metadata": {},
     "output_type": "execute_result"
    }
   ],
   "source": [
    "\"\"\"As there is no value given in the data of level of significance we have to  go with the default value i.e level of significance=5%\"\"\""
   ]
  },
  {
   "cell_type": "code",
   "execution_count": 8,
   "metadata": {},
   "outputs": [
    {
     "name": "stdout",
     "output_type": "stream",
     "text": [
      "ho is accepted and ha is rejected\n",
      "All proportions are equal\n"
     ]
    }
   ],
   "source": [
    "# comparing p_value with α = 0.05 (At 5% significance level) and deriving the results of hypothesis test\n",
    "\n",
    "alpha = 0.05\n",
    "\n",
    "if p<= alpha:\n",
    "    print(\"ho is rejected and ha is accepted\")\n",
    "    print(ha)\n",
    "else:\n",
    "    print(\"ho is accepted and ha is rejected\")\n",
    "    print(ho)"
   ]
  },
  {
   "cell_type": "code",
   "execution_count": 9,
   "metadata": {},
   "outputs": [
    {
     "name": "stdout",
     "output_type": "stream",
     "text": [
      "conlusion\n",
      "finally we confirm after seeing all the results is that\n",
      "All proportions are equal\n"
     ]
    }
   ],
   "source": [
    "print(\"conlusion\")\n",
    "print(\"finally we confirm after seeing all the results is that\")\n",
    "print(ho)"
   ]
  },
  {
   "cell_type": "code",
   "execution_count": 10,
   "metadata": {},
   "outputs": [
    {
     "data": {
      "text/plain": [
       "'we can see that the data mentioned in the ppt differs from the data in the dataset so i decided to perform chi2 test of independence on the ppt dataset also'"
      ]
     },
     "execution_count": 10,
     "metadata": {},
     "output_type": "execute_result"
    }
   ],
   "source": [
    "\"\"\"we can see that the data mentioned in the ppt differs from the data in the dataset so i decided to perform chi2 test of independence on the ppt dataset also\"\"\""
   ]
  },
  {
   "cell_type": "code",
   "execution_count": 11,
   "metadata": {},
   "outputs": [
    {
     "data": {
      "text/plain": [
       "array([[ 50, 142, 131,  70],\n",
       "       [550, 351, 480, 350]])"
      ]
     },
     "execution_count": 11,
     "metadata": {},
     "output_type": "execute_result"
    }
   ],
   "source": [
    "# Make dimensional array\n",
    "obs1=np.array([[50,142,131,70],[550,351,480,350]])\n",
    "obs1"
   ]
  },
  {
   "cell_type": "code",
   "execution_count": 12,
   "metadata": {},
   "outputs": [
    {
     "name": "stdout",
     "output_type": "stream",
     "text": [
      "Chi2 value: 80.2730\n",
      "P-value: 0.000000\n"
     ]
    }
   ],
   "source": [
    "chi2, p, dof, expectedobs = chi2_contingency(obs1)\n",
    "print(f\"Chi2 value: {chi2:.4f}\")\n",
    "print(f\"P-value: {p:.6f}\")\n",
    "p1=p"
   ]
  },
  {
   "cell_type": "code",
   "execution_count": 13,
   "metadata": {},
   "outputs": [
    {
     "name": "stdout",
     "output_type": "stream",
     "text": [
      "ho is rejected and ha is accepted\n",
      "Not All proportions are equal\n"
     ]
    }
   ],
   "source": [
    "# comparing p_value with α = 0.05 (At 5% significance level) and deriving the results of hypothesis test\n",
    "\n",
    "alpha = 0.05\n",
    "\n",
    "if p<= alpha:\n",
    "    print(\"ho is rejected and ha is accepted\")\n",
    "    print(ha)\n",
    "else:\n",
    "    print(\"ho is accepted and ha is rejected\")\n",
    "    print(ho)"
   ]
  },
  {
   "cell_type": "code",
   "execution_count": 14,
   "metadata": {},
   "outputs": [
    {
     "name": "stdout",
     "output_type": "stream",
     "text": [
      "conlusion\n",
      "finally we confirm after seeing all the results is that\n",
      "Not All proportions are equal\n"
     ]
    }
   ],
   "source": [
    "print(\"conlusion\")\n",
    "print(\"finally we confirm after seeing all the results is that\")\n",
    "print(ha)"
   ]
  }
 ],
 "metadata": {
  "kernelspec": {
   "display_name": "Python 3",
   "language": "python",
   "name": "python3"
  },
  "language_info": {
   "codemirror_mode": {
    "name": "ipython",
    "version": 3
   },
   "file_extension": ".py",
   "mimetype": "text/x-python",
   "name": "python",
   "nbconvert_exporter": "python",
   "pygments_lexer": "ipython3",
   "version": "3.11.1"
  },
  "orig_nbformat": 4
 },
 "nbformat": 4,
 "nbformat_minor": 2
}
