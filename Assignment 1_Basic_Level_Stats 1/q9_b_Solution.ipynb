{
 "cells": [
  {
   "cell_type": "code",
   "execution_count": 19,
   "metadata": {},
   "outputs": [],
   "source": [
    "# importing all the packages and naming them as per our convinience.\n",
    "import pandas as pd\n",
    "import numpy as np\n",
    "import statistics as stat"
   ]
  },
  {
   "cell_type": "code",
   "execution_count": 20,
   "metadata": {},
   "outputs": [
    {
     "data": {
      "text/html": [
       "<div><div id=0d1610ec-0506-4d56-bb14-6311d85062c9 style=\"display:none; background-color:#9D6CFF; color:white; width:200px; height:30px; padding-left:5px; border-radius:4px; flex-direction:row; justify-content:space-around; align-items:center;\" onmouseover=\"this.style.backgroundColor='#BA9BF8'\" onmouseout=\"this.style.backgroundColor='#9D6CFF'\" onclick=\"window.commands?.execute('create-mitosheet-from-dataframe-output');\">See Full Dataframe in Mito</div> <script> if (window.commands?.hasCommand('create-mitosheet-from-dataframe-output')) document.getElementById('0d1610ec-0506-4d56-bb14-6311d85062c9').style.display = 'flex' </script> <table border=\"1\" class=\"dataframe\">\n",
       "  <thead>\n",
       "    <tr style=\"text-align: right;\">\n",
       "      <th></th>\n",
       "      <th>Unnamed: 0</th>\n",
       "      <th>SP</th>\n",
       "      <th>WT</th>\n",
       "    </tr>\n",
       "  </thead>\n",
       "  <tbody>\n",
       "    <tr>\n",
       "      <th>0</th>\n",
       "      <td>1</td>\n",
       "      <td>104.185353</td>\n",
       "      <td>28.762059</td>\n",
       "    </tr>\n",
       "    <tr>\n",
       "      <th>1</th>\n",
       "      <td>2</td>\n",
       "      <td>105.461264</td>\n",
       "      <td>30.466833</td>\n",
       "    </tr>\n",
       "    <tr>\n",
       "      <th>2</th>\n",
       "      <td>3</td>\n",
       "      <td>105.461264</td>\n",
       "      <td>30.193597</td>\n",
       "    </tr>\n",
       "    <tr>\n",
       "      <th>3</th>\n",
       "      <td>4</td>\n",
       "      <td>113.461264</td>\n",
       "      <td>30.632114</td>\n",
       "    </tr>\n",
       "    <tr>\n",
       "      <th>4</th>\n",
       "      <td>5</td>\n",
       "      <td>104.461264</td>\n",
       "      <td>29.889149</td>\n",
       "    </tr>\n",
       "    <tr>\n",
       "      <th>...</th>\n",
       "      <td>...</td>\n",
       "      <td>...</td>\n",
       "      <td>...</td>\n",
       "    </tr>\n",
       "    <tr>\n",
       "      <th>76</th>\n",
       "      <td>77</td>\n",
       "      <td>169.598513</td>\n",
       "      <td>16.132947</td>\n",
       "    </tr>\n",
       "    <tr>\n",
       "      <th>77</th>\n",
       "      <td>78</td>\n",
       "      <td>150.576579</td>\n",
       "      <td>37.923113</td>\n",
       "    </tr>\n",
       "    <tr>\n",
       "      <th>78</th>\n",
       "      <td>79</td>\n",
       "      <td>151.598513</td>\n",
       "      <td>15.769625</td>\n",
       "    </tr>\n",
       "    <tr>\n",
       "      <th>79</th>\n",
       "      <td>80</td>\n",
       "      <td>167.944460</td>\n",
       "      <td>39.423099</td>\n",
       "    </tr>\n",
       "    <tr>\n",
       "      <th>80</th>\n",
       "      <td>81</td>\n",
       "      <td>139.840817</td>\n",
       "      <td>34.948615</td>\n",
       "    </tr>\n",
       "  </tbody>\n",
       "</table></div>"
      ],
      "text/plain": [
       "    Unnamed: 0          SP         WT\n",
       "0            1  104.185353  28.762059\n",
       "1            2  105.461264  30.466833\n",
       "2            3  105.461264  30.193597\n",
       "3            4  113.461264  30.632114\n",
       "4            5  104.461264  29.889149\n",
       "..         ...         ...        ...\n",
       "76          77  169.598513  16.132947\n",
       "77          78  150.576579  37.923113\n",
       "78          79  151.598513  15.769625\n",
       "79          80  167.944460  39.423099\n",
       "80          81  139.840817  34.948615\n",
       "\n",
       "[81 rows x 3 columns]"
      ]
     },
     "execution_count": 20,
     "metadata": {},
     "output_type": "execute_result"
    }
   ],
   "source": [
    "# importing the data using pandas.\n",
    "data=pd.read_csv(\"E:\\Assignment 1\\Q9_b.csv\")\n",
    "data"
   ]
  },
  {
   "cell_type": "code",
   "execution_count": 21,
   "metadata": {},
   "outputs": [
    {
     "data": {
      "text/html": [
       "<div><div id=dda28125-6f8f-4955-9a33-405e546bc21e style=\"display:none; background-color:#9D6CFF; color:white; width:200px; height:30px; padding-left:5px; border-radius:4px; flex-direction:row; justify-content:space-around; align-items:center;\" onmouseover=\"this.style.backgroundColor='#BA9BF8'\" onmouseout=\"this.style.backgroundColor='#9D6CFF'\" onclick=\"window.commands?.execute('create-mitosheet-from-dataframe-output');\">See Full Dataframe in Mito</div> <script> if (window.commands?.hasCommand('create-mitosheet-from-dataframe-output')) document.getElementById('dda28125-6f8f-4955-9a33-405e546bc21e').style.display = 'flex' </script> <table border=\"1\" class=\"dataframe\">\n",
       "  <thead>\n",
       "    <tr style=\"text-align: right;\">\n",
       "      <th></th>\n",
       "      <th>Unnamed: 0</th>\n",
       "      <th>SP</th>\n",
       "      <th>WT</th>\n",
       "    </tr>\n",
       "  </thead>\n",
       "  <tbody>\n",
       "    <tr>\n",
       "      <th>0</th>\n",
       "      <td>1</td>\n",
       "      <td>104.185353</td>\n",
       "      <td>28.762059</td>\n",
       "    </tr>\n",
       "    <tr>\n",
       "      <th>1</th>\n",
       "      <td>2</td>\n",
       "      <td>105.461264</td>\n",
       "      <td>30.466833</td>\n",
       "    </tr>\n",
       "    <tr>\n",
       "      <th>2</th>\n",
       "      <td>3</td>\n",
       "      <td>105.461264</td>\n",
       "      <td>30.193597</td>\n",
       "    </tr>\n",
       "    <tr>\n",
       "      <th>3</th>\n",
       "      <td>4</td>\n",
       "      <td>113.461264</td>\n",
       "      <td>30.632114</td>\n",
       "    </tr>\n",
       "    <tr>\n",
       "      <th>4</th>\n",
       "      <td>5</td>\n",
       "      <td>104.461264</td>\n",
       "      <td>29.889149</td>\n",
       "    </tr>\n",
       "    <tr>\n",
       "      <th>...</th>\n",
       "      <td>...</td>\n",
       "      <td>...</td>\n",
       "      <td>...</td>\n",
       "    </tr>\n",
       "    <tr>\n",
       "      <th>76</th>\n",
       "      <td>77</td>\n",
       "      <td>169.598513</td>\n",
       "      <td>16.132947</td>\n",
       "    </tr>\n",
       "    <tr>\n",
       "      <th>77</th>\n",
       "      <td>78</td>\n",
       "      <td>150.576579</td>\n",
       "      <td>37.923113</td>\n",
       "    </tr>\n",
       "    <tr>\n",
       "      <th>78</th>\n",
       "      <td>79</td>\n",
       "      <td>151.598513</td>\n",
       "      <td>15.769625</td>\n",
       "    </tr>\n",
       "    <tr>\n",
       "      <th>79</th>\n",
       "      <td>80</td>\n",
       "      <td>167.944460</td>\n",
       "      <td>39.423099</td>\n",
       "    </tr>\n",
       "    <tr>\n",
       "      <th>80</th>\n",
       "      <td>81</td>\n",
       "      <td>139.840817</td>\n",
       "      <td>34.948615</td>\n",
       "    </tr>\n",
       "  </tbody>\n",
       "</table></div>"
      ],
      "text/plain": [
       "    Unnamed: 0          SP         WT\n",
       "0            1  104.185353  28.762059\n",
       "1            2  105.461264  30.466833\n",
       "2            3  105.461264  30.193597\n",
       "3            4  113.461264  30.632114\n",
       "4            5  104.461264  29.889149\n",
       "..         ...         ...        ...\n",
       "76          77  169.598513  16.132947\n",
       "77          78  150.576579  37.923113\n",
       "78          79  151.598513  15.769625\n",
       "79          80  167.944460  39.423099\n",
       "80          81  139.840817  34.948615\n",
       "\n",
       "[81 rows x 3 columns]"
      ]
     },
     "execution_count": 21,
     "metadata": {},
     "output_type": "execute_result"
    }
   ],
   "source": [
    "# creating a dataframe using pandas.\n",
    "df=pd.DataFrame(data)\n",
    "df"
   ]
  },
  {
   "cell_type": "code",
   "execution_count": 22,
   "metadata": {},
   "outputs": [
    {
     "name": "stdout",
     "output_type": "stream",
     "text": [
      "ar_sp = [104.1853528  105.4612635  105.4612635  113.4612635  104.4612635\n",
      " 113.1853528  105.4612635  102.5985128  102.5985128  115.6452041\n",
      " 111.1853528  117.5985128  122.1050553  111.1853528  108.1853528\n",
      " 111.1853528  114.3692933  117.5985128  114.3692933  118.4729364\n",
      " 119.1050553  110.8408174  120.2889958  113.8291446  119.1853528\n",
      " 114.5985128  120.7605199  119.1050553   99.56490661 121.8408174\n",
      " 113.4846092  112.2889958  119.9211148  121.3926389  111.2889958\n",
      " 115.0130851  114.0933825  116.909442   116.909442   128.4612635\n",
      " 116.3926389  115.7488471  117.4612635  114.0933825  114.3809661\n",
      " 117.1050553  118.2086984  116.4729364  127.909442   118.2889958\n",
      " 118.2889958  118.2889958  120.4043117  143.3926389  135.3926389\n",
      " 126.4043117  110.4612635  118.2889958  112.6452041  115.5765794\n",
      " 130.2086984  117.6685497  126.0481035  125.3123415  128.128401\n",
      " 126.5985128  132.4846092  133.6802225  133.3123415  158.3006687\n",
      " 164.5985128  133.4159845  133.1400738  124.7152409  121.864163\n",
      " 132.864163   169.5985128  150.5765794  151.5985128  167.9444604\n",
      " 139.8408174 ]\n",
      "ar_wt = [28.7620589  30.46683298 30.19359657 30.63211391 29.88914864 29.59176832\n",
      " 30.30847957 15.84775807 16.35948352 30.92015417 29.36334142 15.75353468\n",
      " 32.81359241 29.3784363  29.34727902 29.60452658 29.5357836  16.19412154\n",
      " 29.92939368 33.51697417 32.32464971 34.90821127 32.6758277  31.83712236\n",
      " 28.78172789 16.04317492 38.06282335 32.83506939 34.4832075  35.54935984\n",
      " 37.04235003 33.23436141 31.38004084 37.57328965 32.701644   31.9112234\n",
      " 28.75400008 27.87991549 28.63050247 30.11543403 37.39252442 35.02717556\n",
      " 30.52742698 28.34397592 33.07863163 32.62191589 36.49861738 33.91005598\n",
      " 28.07059654 33.45847152 33.21395395 33.43671117 40.39816357 37.62069475\n",
      " 37.25439197 40.58906845 30.14754329 32.73451818 30.61528334 37.66287367\n",
      " 36.88815313 37.86041143 43.3909885  40.72283115 40.15948186 15.71285853\n",
      " 37.97995604 41.57397476 40.47204238 37.14173328 15.82306042 44.01313857\n",
      " 43.35312292 52.99775236 42.61869847 42.77821864 16.13294744 37.92311321\n",
      " 15.76962542 39.42309899 34.94861469]\n"
     ]
    }
   ],
   "source": [
    "# creating an array using numpy to perform all the statistics operations easily.\n",
    "ar_sp=np.array(df[\"SP\"])\n",
    "print(\"ar_sp =\",ar_sp)\n",
    "ar_wt=np.array(df[\"WT\"])\n",
    "print(\"ar_wt =\",ar_wt)"
   ]
  },
  {
   "cell_type": "code",
   "execution_count": 23,
   "metadata": {},
   "outputs": [],
   "source": [
    "# deriving the required statistics for speed variable using stat and numpy and saving them.\n",
    "sp_mean=stat.mean(ar_sp)\n",
    "sp_median=stat.median(ar_sp)\n",
    "sp_mode=stat.mode(ar_sp)"
   ]
  },
  {
   "cell_type": "code",
   "execution_count": 25,
   "metadata": {},
   "outputs": [
    {
     "name": "stdout",
     "output_type": "stream",
     "text": [
      "sp_mean= 121.54027218037037\n",
      "sp_median= 118.2086984\n",
      "sp_mode= 118.2889958\n"
     ]
    }
   ],
   "source": [
    "print(\"sp_mean=\",stat.mean(ar_sp))\n",
    "print(\"sp_median=\",stat.median(ar_sp))\n",
    "print(\"sp_mode=\",stat.mode(ar_sp))\n",
    "\n",
    "# as the statistics show that median<mode<mean, the data is negatively skewed"
   ]
  },
  {
   "cell_type": "code",
   "execution_count": 26,
   "metadata": {},
   "outputs": [
    {
     "data": {
      "text/plain": [
       "<AxesSubplot: ylabel='Frequency'>"
      ]
     },
     "execution_count": 26,
     "metadata": {},
     "output_type": "execute_result"
    },
    {
     "data": {
      "image/png": "[encoded data removed]",
      "text/plain": [
       "<Figure size 640x480 with 1 Axes>"
      ]
     },
     "metadata": {},
     "output_type": "display_data"
    }
   ],
   "source": [
    "df[\"SP\"].plot.hist()\n",
    "\n",
    "# to further prove my solution i plotted an histogram\n",
    "# histogram describes the shape of the data\n",
    "# the histogram of speed variable negatively skewed that means median<mode<mean"
   ]
  },
  {
   "cell_type": "code",
   "execution_count": 28,
   "metadata": {},
   "outputs": [
    {
     "name": "stdout",
     "output_type": "stream",
     "text": [
      "skewness_sp= 1.5814536794423764\n",
      "kurtosis_sp= 2.7235214865269244\n"
     ]
    }
   ],
   "source": [
    "# we can calculate skewness and kurtosis directly using the scipy package in python\n",
    "\n",
    "from scipy.stats import skew\n",
    "from scipy.stats import kurtosis\n",
    "\n",
    "\n",
    "print(\"skewness_sp=\",skew(ar_sp))\n",
    "print(\"kurtosis_sp=\",kurtosis(ar_sp))\n",
    "\n",
    "# as the values of the skewness in speed variable shows that  it is positively skewed.\n",
    "# thereby kurtosis helps us to track the peakedness of data.\n",
    "# as the value of the kurtosis is positive then the SP variable contains the highest peakedness in the data\n",
    "# highest peakedness is known as leptokurtic\n",
    "# hence, SP has the highest peakedness and positively skewed."
   ]
  },
  {
   "cell_type": "code",
   "execution_count": 29,
   "metadata": {},
   "outputs": [
    {
     "data": {
      "text/plain": [
       "<AxesSubplot: >"
      ]
     },
     "execution_count": 29,
     "metadata": {},
     "output_type": "execute_result"
    },
    {
     "data": {
      "image/png": "[encoded data removed]",
      "text/plain": [
       "<Figure size 640x480 with 1 Axes>"
      ]
     },
     "metadata": {},
     "output_type": "display_data"
    }
   ],
   "source": [
    "# there by making my previous assumptions wrong the kurtosis and skewness both are positive\n",
    "\n",
    "df[\"SP\"].plot.box()\n",
    "\n",
    "# therefore as per the boxplot the data contains outliers in it that's why my assumptions went wrong and histogram and skewness didn't match.\n",
    "# therefore to get the data symmetrically distributed we have to remove the outliers"
   ]
  },
  {
   "cell_type": "code",
   "execution_count": 30,
   "metadata": {},
   "outputs": [],
   "source": [
    "# deriving the required statistics for speed variable using stat and numpy and saving them.\n",
    "wt_mean=stat.mean(ar_wt)\n",
    "wt_median=stat.median(ar_wt)\n",
    "wt_mode=stat.mode(ar_wt)"
   ]
  },
  {
   "cell_type": "code",
   "execution_count": 31,
   "metadata": {},
   "outputs": [
    {
     "name": "stdout",
     "output_type": "stream",
     "text": [
      "wt_mean= 32.41257691024691\n",
      "wt_median= 32.73451818\n",
      "wt_mode= 28.7620589\n"
     ]
    }
   ],
   "source": [
    "print(\"wt_mean=\",stat.mean(ar_wt))\n",
    "print(\"wt_median=\",stat.median(ar_wt))\n",
    "print(\"wt_mode=\",stat.mode(ar_wt))\n",
    "\n",
    "# as the statistics show that mode<median<mean, the data is positively skewed"
   ]
  },
  {
   "cell_type": "code",
   "execution_count": 13,
   "metadata": {},
   "outputs": [
    {
     "data": {
      "text/plain": [
       "<AxesSubplot: ylabel='Frequency'>"
      ]
     },
     "execution_count": 13,
     "metadata": {},
     "output_type": "execute_result"
    },
    {
     "data": {
      "image/png": "[encoded data removed]",
      "text/plain": [
       "<Figure size 640x480 with 1 Axes>"
      ]
     },
     "metadata": {},
     "output_type": "display_data"
    }
   ],
   "source": [
    "df[\"WT\"].plot.hist()\n",
    "\n",
    "# to further prove my soltion i plotted an histogram\n",
    "# histogram describes the shape of the data\n",
    "# the histogram of dist variable negatively skewed that means mode<median<mean"
   ]
  },
  {
   "cell_type": "code",
   "execution_count": 32,
   "metadata": {},
   "outputs": [
    {
     "name": "stdout",
     "output_type": "stream",
     "text": [
      "skewness_dist= -0.6033099322115126\n",
      "kurtosis_dist 0.8194658792266849\n"
     ]
    }
   ],
   "source": [
    "from scipy.stats import skew\n",
    "from scipy.stats import kurtosis\n",
    "\n",
    "\n",
    "print(\"skewness_dist=\",skew(ar_wt))\n",
    "print(\"kurtosis_dist\",kurtosis(ar_wt))\n",
    "\n",
    "# as the values of the skewness in dist variable shows that  it is negatively skewed\n",
    "# thereby kurtosis helps us to track the peakedness of data\n",
    "# as the value of the kurtosis is positive then the WT variable contains the highest peakedness in the data\n",
    "# highest peakedness is known as leptokurtic\n",
    "# hence, WT has the highest peakedness and negatively skewed."
   ]
  },
  {
   "cell_type": "code",
   "execution_count": 33,
   "metadata": {},
   "outputs": [
    {
     "data": {
      "text/plain": [
       "<AxesSubplot: >"
      ]
     },
     "execution_count": 33,
     "metadata": {},
     "output_type": "execute_result"
    },
    {
     "data": {
      "image/png": "[encoded data removed]",
      "text/plain": [
       "<Figure size 640x480 with 1 Axes>"
      ]
     },
     "metadata": {},
     "output_type": "display_data"
    }
   ],
   "source": [
    "# there by making my previous assumptions wrong the kurtosis is postive but skewness is negative but histogram shows positive skew\n",
    "\n",
    "df[\"SP\"].plot.box()\n",
    "\n",
    "# therefore as per the boxplot the data contains outliers in it that's why my assumptions went wrong and histogram and skewness didn't match.\n",
    "# therefore to get the data symmetrically distributed we have to remove the outliers"
   ]
  }
 ],
 "metadata": {
  "kernelspec": {
   "display_name": "Python 3",
   "language": "python",
   "name": "python3"
  },
  "language_info": {
   "codemirror_mode": {
    "name": "ipython",
    "version": 3
   },
   "file_extension": ".py",
   "mimetype": "text/x-python",
   "name": "python",
   "nbconvert_exporter": "python",
   "pygments_lexer": "ipython3",
   "version": "3.11.1"
  },
  "orig_nbformat": 4
 },
 "nbformat": 4,
 "nbformat_minor": 2
}
