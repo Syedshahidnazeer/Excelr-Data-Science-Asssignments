{
 "cells": [
  {
   "cell_type": "code",
   "execution_count": 32,
   "metadata": {},
   "outputs": [],
   "source": [
    "# importing all the packages and naming them as per our convinience.\n",
    "import pandas as pd\n",
    "import numpy as np\n",
    "import statistics as stat"
   ]
  },
  {
   "cell_type": "code",
   "execution_count": 33,
   "metadata": {},
   "outputs": [
    {
     "data": {
      "text/html": [
       "<div><div id=2e7e4b53-7f12-4035-9e42-08073b005146 style=\"display:none; background-color:#9D6CFF; color:white; width:200px; height:30px; padding-left:5px; border-radius:4px; flex-direction:row; justify-content:space-around; align-items:center;\" onmouseover=\"this.style.backgroundColor='#BA9BF8'\" onmouseout=\"this.style.backgroundColor='#9D6CFF'\" onclick=\"window.commands?.execute('create-mitosheet-from-dataframe-output');\">See Full Dataframe in Mito</div> <script> if (window.commands?.hasCommand('create-mitosheet-from-dataframe-output')) document.getElementById('2e7e4b53-7f12-4035-9e42-08073b005146').style.display = 'flex' </script> <table border=\"1\" class=\"dataframe\">\n",
       "  <thead>\n",
       "    <tr style=\"text-align: right;\">\n",
       "      <th></th>\n",
       "      <th>Unnamed: 0</th>\n",
       "      <th>Points</th>\n",
       "      <th>Score</th>\n",
       "      <th>Weigh</th>\n",
       "    </tr>\n",
       "  </thead>\n",
       "  <tbody>\n",
       "    <tr>\n",
       "      <th>0</th>\n",
       "      <td>Mazda RX4</td>\n",
       "      <td>3.90</td>\n",
       "      <td>2.620</td>\n",
       "      <td>16.46</td>\n",
       "    </tr>\n",
       "    <tr>\n",
       "      <th>1</th>\n",
       "      <td>Mazda RX4 Wag</td>\n",
       "      <td>3.90</td>\n",
       "      <td>2.875</td>\n",
       "      <td>17.02</td>\n",
       "    </tr>\n",
       "    <tr>\n",
       "      <th>2</th>\n",
       "      <td>Datsun 710</td>\n",
       "      <td>3.85</td>\n",
       "      <td>2.320</td>\n",
       "      <td>18.61</td>\n",
       "    </tr>\n",
       "    <tr>\n",
       "      <th>3</th>\n",
       "      <td>Hornet 4 Drive</td>\n",
       "      <td>3.08</td>\n",
       "      <td>3.215</td>\n",
       "      <td>19.44</td>\n",
       "    </tr>\n",
       "    <tr>\n",
       "      <th>4</th>\n",
       "      <td>Hornet Sportabout</td>\n",
       "      <td>3.15</td>\n",
       "      <td>3.440</td>\n",
       "      <td>17.02</td>\n",
       "    </tr>\n",
       "    <tr>\n",
       "      <th>...</th>\n",
       "      <td>...</td>\n",
       "      <td>...</td>\n",
       "      <td>...</td>\n",
       "      <td>...</td>\n",
       "    </tr>\n",
       "    <tr>\n",
       "      <th>27</th>\n",
       "      <td>Lotus Europa</td>\n",
       "      <td>3.77</td>\n",
       "      <td>1.513</td>\n",
       "      <td>16.90</td>\n",
       "    </tr>\n",
       "    <tr>\n",
       "      <th>28</th>\n",
       "      <td>Ford Pantera L</td>\n",
       "      <td>4.22</td>\n",
       "      <td>3.170</td>\n",
       "      <td>14.50</td>\n",
       "    </tr>\n",
       "    <tr>\n",
       "      <th>29</th>\n",
       "      <td>Ferrari Dino</td>\n",
       "      <td>3.62</td>\n",
       "      <td>2.770</td>\n",
       "      <td>15.50</td>\n",
       "    </tr>\n",
       "    <tr>\n",
       "      <th>30</th>\n",
       "      <td>Maserati Bora</td>\n",
       "      <td>3.54</td>\n",
       "      <td>3.570</td>\n",
       "      <td>14.60</td>\n",
       "    </tr>\n",
       "    <tr>\n",
       "      <th>31</th>\n",
       "      <td>Volvo 142E</td>\n",
       "      <td>4.11</td>\n",
       "      <td>2.780</td>\n",
       "      <td>18.60</td>\n",
       "    </tr>\n",
       "  </tbody>\n",
       "</table></div>"
      ],
      "text/plain": [
       "             Unnamed: 0  Points  Score  Weigh\n",
       "0             Mazda RX4    3.90  2.620  16.46\n",
       "1         Mazda RX4 Wag    3.90  2.875  17.02\n",
       "2            Datsun 710    3.85  2.320  18.61\n",
       "3        Hornet 4 Drive    3.08  3.215  19.44\n",
       "4     Hornet Sportabout    3.15  3.440  17.02\n",
       "5               Valiant    2.76  3.460  20.22\n",
       "6            Duster 360    3.21  3.570  15.84\n",
       "7             Merc 240D    3.69  3.190  20.00\n",
       "8              Merc 230    3.92  3.150  22.90\n",
       "9              Merc 280    3.92  3.440  18.30\n",
       "10            Merc 280C    3.92  3.440  18.90\n",
       "11           Merc 450SE    3.07  4.070  17.40\n",
       "12           Merc 450SL    3.07  3.730  17.60\n",
       "13          Merc 450SLC    3.07  3.780  18.00\n",
       "14   Cadillac Fleetwood    2.93  5.250  17.98\n",
       "15  Lincoln Continental    3.00  5.424  17.82\n",
       "16    Chrysler Imperial    3.23  5.345  17.42\n",
       "17             Fiat 128    4.08  2.200  19.47\n",
       "18          Honda Civic    4.93  1.615  18.52\n",
       "19       Toyota Corolla    4.22  1.835  19.90\n",
       "20        Toyota Corona    3.70  2.465  20.01\n",
       "21     Dodge Challenger    2.76  3.520  16.87\n",
       "22          AMC Javelin    3.15  3.435  17.30\n",
       "23           Camaro Z28    3.73  3.840  15.41\n",
       "24     Pontiac Firebird    3.08  3.845  17.05\n",
       "25            Fiat X1-9    4.08  1.935  18.90\n",
       "26        Porsche 914-2    4.43  2.140  16.70\n",
       "27         Lotus Europa    3.77  1.513  16.90\n",
       "28       Ford Pantera L    4.22  3.170  14.50\n",
       "29         Ferrari Dino    3.62  2.770  15.50\n",
       "30        Maserati Bora    3.54  3.570  14.60\n",
       "31           Volvo 142E    4.11  2.780  18.60"
      ]
     },
     "execution_count": 33,
     "metadata": {},
     "output_type": "execute_result"
    }
   ],
   "source": [
    "# importing the data using pandas.\n",
    "data=pd.read_csv(\"E:\\Assignment 1\\Q7.csv\")\n",
    "data"
   ]
  },
  {
   "cell_type": "code",
   "execution_count": 34,
   "metadata": {},
   "outputs": [
    {
     "data": {
      "text/html": [
       "<div><div id=485fbfe6-cc57-4681-80da-aed37aaa5da6 style=\"display:none; background-color:#9D6CFF; color:white; width:200px; height:30px; padding-left:5px; border-radius:4px; flex-direction:row; justify-content:space-around; align-items:center;\" onmouseover=\"this.style.backgroundColor='#BA9BF8'\" onmouseout=\"this.style.backgroundColor='#9D6CFF'\" onclick=\"window.commands?.execute('create-mitosheet-from-dataframe-output');\">See Full Dataframe in Mito</div> <script> if (window.commands?.hasCommand('create-mitosheet-from-dataframe-output')) document.getElementById('485fbfe6-cc57-4681-80da-aed37aaa5da6').style.display = 'flex' </script> <table border=\"1\" class=\"dataframe\">\n",
       "  <thead>\n",
       "    <tr style=\"text-align: right;\">\n",
       "      <th></th>\n",
       "      <th>Unnamed: 0</th>\n",
       "      <th>Points</th>\n",
       "      <th>Score</th>\n",
       "      <th>Weigh</th>\n",
       "    </tr>\n",
       "  </thead>\n",
       "  <tbody>\n",
       "    <tr>\n",
       "      <th>0</th>\n",
       "      <td>Mazda RX4</td>\n",
       "      <td>3.90</td>\n",
       "      <td>2.620</td>\n",
       "      <td>16.46</td>\n",
       "    </tr>\n",
       "    <tr>\n",
       "      <th>1</th>\n",
       "      <td>Mazda RX4 Wag</td>\n",
       "      <td>3.90</td>\n",
       "      <td>2.875</td>\n",
       "      <td>17.02</td>\n",
       "    </tr>\n",
       "    <tr>\n",
       "      <th>2</th>\n",
       "      <td>Datsun 710</td>\n",
       "      <td>3.85</td>\n",
       "      <td>2.320</td>\n",
       "      <td>18.61</td>\n",
       "    </tr>\n",
       "    <tr>\n",
       "      <th>3</th>\n",
       "      <td>Hornet 4 Drive</td>\n",
       "      <td>3.08</td>\n",
       "      <td>3.215</td>\n",
       "      <td>19.44</td>\n",
       "    </tr>\n",
       "    <tr>\n",
       "      <th>4</th>\n",
       "      <td>Hornet Sportabout</td>\n",
       "      <td>3.15</td>\n",
       "      <td>3.440</td>\n",
       "      <td>17.02</td>\n",
       "    </tr>\n",
       "    <tr>\n",
       "      <th>...</th>\n",
       "      <td>...</td>\n",
       "      <td>...</td>\n",
       "      <td>...</td>\n",
       "      <td>...</td>\n",
       "    </tr>\n",
       "    <tr>\n",
       "      <th>27</th>\n",
       "      <td>Lotus Europa</td>\n",
       "      <td>3.77</td>\n",
       "      <td>1.513</td>\n",
       "      <td>16.90</td>\n",
       "    </tr>\n",
       "    <tr>\n",
       "      <th>28</th>\n",
       "      <td>Ford Pantera L</td>\n",
       "      <td>4.22</td>\n",
       "      <td>3.170</td>\n",
       "      <td>14.50</td>\n",
       "    </tr>\n",
       "    <tr>\n",
       "      <th>29</th>\n",
       "      <td>Ferrari Dino</td>\n",
       "      <td>3.62</td>\n",
       "      <td>2.770</td>\n",
       "      <td>15.50</td>\n",
       "    </tr>\n",
       "    <tr>\n",
       "      <th>30</th>\n",
       "      <td>Maserati Bora</td>\n",
       "      <td>3.54</td>\n",
       "      <td>3.570</td>\n",
       "      <td>14.60</td>\n",
       "    </tr>\n",
       "    <tr>\n",
       "      <th>31</th>\n",
       "      <td>Volvo 142E</td>\n",
       "      <td>4.11</td>\n",
       "      <td>2.780</td>\n",
       "      <td>18.60</td>\n",
       "    </tr>\n",
       "  </tbody>\n",
       "</table></div>"
      ],
      "text/plain": [
       "             Unnamed: 0  Points  Score  Weigh\n",
       "0             Mazda RX4    3.90  2.620  16.46\n",
       "1         Mazda RX4 Wag    3.90  2.875  17.02\n",
       "2            Datsun 710    3.85  2.320  18.61\n",
       "3        Hornet 4 Drive    3.08  3.215  19.44\n",
       "4     Hornet Sportabout    3.15  3.440  17.02\n",
       "5               Valiant    2.76  3.460  20.22\n",
       "6            Duster 360    3.21  3.570  15.84\n",
       "7             Merc 240D    3.69  3.190  20.00\n",
       "8              Merc 230    3.92  3.150  22.90\n",
       "9              Merc 280    3.92  3.440  18.30\n",
       "10            Merc 280C    3.92  3.440  18.90\n",
       "11           Merc 450SE    3.07  4.070  17.40\n",
       "12           Merc 450SL    3.07  3.730  17.60\n",
       "13          Merc 450SLC    3.07  3.780  18.00\n",
       "14   Cadillac Fleetwood    2.93  5.250  17.98\n",
       "15  Lincoln Continental    3.00  5.424  17.82\n",
       "16    Chrysler Imperial    3.23  5.345  17.42\n",
       "17             Fiat 128    4.08  2.200  19.47\n",
       "18          Honda Civic    4.93  1.615  18.52\n",
       "19       Toyota Corolla    4.22  1.835  19.90\n",
       "20        Toyota Corona    3.70  2.465  20.01\n",
       "21     Dodge Challenger    2.76  3.520  16.87\n",
       "22          AMC Javelin    3.15  3.435  17.30\n",
       "23           Camaro Z28    3.73  3.840  15.41\n",
       "24     Pontiac Firebird    3.08  3.845  17.05\n",
       "25            Fiat X1-9    4.08  1.935  18.90\n",
       "26        Porsche 914-2    4.43  2.140  16.70\n",
       "27         Lotus Europa    3.77  1.513  16.90\n",
       "28       Ford Pantera L    4.22  3.170  14.50\n",
       "29         Ferrari Dino    3.62  2.770  15.50\n",
       "30        Maserati Bora    3.54  3.570  14.60\n",
       "31           Volvo 142E    4.11  2.780  18.60"
      ]
     },
     "execution_count": 34,
     "metadata": {},
     "output_type": "execute_result"
    }
   ],
   "source": [
    "# creating a dataframe using pandas.\n",
    "df=pd.DataFrame(data)\n",
    "df"
   ]
  },
  {
   "cell_type": "code",
   "execution_count": 35,
   "metadata": {},
   "outputs": [
    {
     "name": "stdout",
     "output_type": "stream",
     "text": [
      "ar_points = [3.9  3.9  3.85 3.08 3.15 2.76 3.21 3.69 3.92 3.92 3.92 3.07 3.07 3.07\n",
      " 2.93 3.   3.23 4.08 4.93 4.22 3.7  2.76 3.15 3.73 3.08 4.08 4.43 3.77\n",
      " 4.22 3.62 3.54 4.11]\n",
      "ar_score = [2.62  2.875 2.32  3.215 3.44  3.46  3.57  3.19  3.15  3.44  3.44  4.07\n",
      " 3.73  3.78  5.25  5.424 5.345 2.2   1.615 1.835 2.465 3.52  3.435 3.84\n",
      " 3.845 1.935 2.14  1.513 3.17  2.77  3.57  2.78 ]\n",
      "ar_weigh = [16.46 17.02 18.61 19.44 17.02 20.22 15.84 20.   22.9  18.3  18.9  17.4\n",
      " 17.6  18.   17.98 17.82 17.42 19.47 18.52 19.9  20.01 16.87 17.3  15.41\n",
      " 17.05 18.9  16.7  16.9  14.5  15.5  14.6  18.6 ]\n"
     ]
    }
   ],
   "source": [
    "# creating an array using numpy to perform all the statistics operations easily.\n",
    "ar_points=np.array(df[\"Points\"])\n",
    "print(\"ar_points =\",ar_points)\n",
    "ar_score=np.array(df[\"Score\"])\n",
    "print(\"ar_score =\",ar_score)\n",
    "ar_weigh=np.array(df[\"Weigh\"])\n",
    "print(\"ar_weigh =\",ar_weigh)"
   ]
  },
  {
   "cell_type": "code",
   "execution_count": 36,
   "metadata": {},
   "outputs": [],
   "source": [
    "# deriving the required statistics for points variable using stat and numpy and saving them.\n",
    "points_mean=stat.mean(ar_points)\n",
    "points_median=stat.median(ar_points)\n",
    "points_mode=stat.mode(ar_points)\n",
    "points_stdev=stat.stdev(ar_points)\n",
    "points_max=np.max(ar_points)\n",
    "points_min=np.min(ar_points)\n",
    "points_range=points_max-points_min"
   ]
  },
  {
   "cell_type": "code",
   "execution_count": 37,
   "metadata": {},
   "outputs": [
    {
     "name": "stdout",
     "output_type": "stream",
     "text": [
      "points_mean 3.5965625\n",
      "points_median 3.6950000000000003\n",
      "points_mode 3.92\n",
      "points_stdev 0.5346787360709715\n",
      "points_max 4.93\n",
      "points_max 2.76\n",
      "points_range 2.17\n"
     ]
    }
   ],
   "source": [
    "print(\"points_mean\",stat.mean(ar_points))\n",
    "print(\"points_median\",stat.median(ar_points))\n",
    "print(\"points_mode\",stat.mode(ar_points))\n",
    "print(\"points_stdev\",stat.stdev(ar_points))\n",
    "print(\"points_max\",np.max(ar_points))\n",
    "print(\"points_max\",np.min(ar_points))\n",
    "print(\"points_range\",points_max-points_min)"
   ]
  },
  {
   "cell_type": "code",
   "execution_count": 67,
   "metadata": {},
   "outputs": [],
   "source": [
    "# deriving the required statistics for score variable using stat and numpy and saving them.\n",
    "score_mean=stat.mean(ar_score)\n",
    "score_median=stat.median(ar_score)\n",
    "score_mode=stat.mode(ar_score)\n",
    "score_stdev=stat.stdev(ar_score)\n",
    "score_max=np.max(ar_score)\n",
    "score_min=np.min(ar_score)\n",
    "score_range=score_max-score_min"
   ]
  },
  {
   "cell_type": "code",
   "execution_count": 66,
   "metadata": {},
   "outputs": [
    {
     "name": "stdout",
     "output_type": "stream",
     "text": [
      "score_mean 3.21725\n",
      "score_median 3.325\n",
      "score_mode 3.44\n",
      "score_stdev 0.9784574429896967\n",
      "score_max 5.424\n",
      "score_min 1.513\n",
      "score_range 3.9110000000000005\n"
     ]
    }
   ],
   "source": [
    "print(\"score_mean\",stat.mean(ar_score))\n",
    "print(\"score_median\",stat.median(ar_score))\n",
    "print(\"score_mode\",stat.mode(ar_score))\n",
    "print(\"score_stdev\",stat.stdev(ar_score))\n",
    "print(\"score_max\",np.max(ar_score))\n",
    "print(\"score_min\",np.min(ar_score))\n",
    "print(\"score_range\",score_max-score_min)"
   ]
  },
  {
   "cell_type": "code",
   "execution_count": 42,
   "metadata": {},
   "outputs": [],
   "source": [
    "# deriving the required statistics for weigh variable using stat and numpy and saving them.\n",
    "weigh_mean=stat.mean(ar_weigh)\n",
    "weigh_median=stat.median(ar_weigh)\n",
    "weigh_mode=stat.mode(ar_weigh)\n",
    "weigh_stdev=stat.stdev(ar_weigh)\n",
    "weigh_max=np.max(ar_weigh)\n",
    "weigh_min=np.min(ar_weigh)\n",
    "weigh_range=weigh_max-weigh_min"
   ]
  },
  {
   "cell_type": "code",
   "execution_count": 65,
   "metadata": {},
   "outputs": [
    {
     "name": "stdout",
     "output_type": "stream",
     "text": [
      "weigh_mean 17.84875\n",
      "weigh_median 17.71\n",
      "weigh_mode 17.02\n",
      "weigh_stdev 1.786943236096843\n",
      "weigh_max 22.9\n",
      "weigh_min 14.5\n",
      "weigh_range 8.399999999999999\n"
     ]
    }
   ],
   "source": [
    "print(\"weigh_mean\",stat.mean(ar_weigh))\n",
    "print(\"weigh_median\",stat.median(ar_weigh))\n",
    "print(\"weigh_mode\",stat.mode(ar_weigh))\n",
    "print(\"weigh_stdev\",stat.stdev(ar_weigh))\n",
    "print(\"weigh_max\",np.max(ar_weigh))\n",
    "print(\"weigh_min\",np.min(ar_weigh))\n",
    "print(\"weigh_range\",weigh_max-weigh_min)"
   ]
  },
  {
   "cell_type": "code",
   "execution_count": 44,
   "metadata": {},
   "outputs": [
    {
     "data": {
      "text/html": [
       "<div><div id=3495a547-77a5-43f4-b04a-203d68f6f436 style=\"display:none; background-color:#9D6CFF; color:white; width:200px; height:30px; padding-left:5px; border-radius:4px; flex-direction:row; justify-content:space-around; align-items:center;\" onmouseover=\"this.style.backgroundColor='#BA9BF8'\" onmouseout=\"this.style.backgroundColor='#9D6CFF'\" onclick=\"window.commands?.execute('create-mitosheet-from-dataframe-output');\">See Full Dataframe in Mito</div> <script> if (window.commands?.hasCommand('create-mitosheet-from-dataframe-output')) document.getElementById('3495a547-77a5-43f4-b04a-203d68f6f436').style.display = 'flex' </script> <table border=\"1\" class=\"dataframe\">\n",
       "  <thead>\n",
       "    <tr style=\"text-align: right;\">\n",
       "      <th></th>\n",
       "      <th>Points</th>\n",
       "      <th>Score</th>\n",
       "      <th>Weigh</th>\n",
       "    </tr>\n",
       "  </thead>\n",
       "  <tbody>\n",
       "    <tr>\n",
       "      <th>count</th>\n",
       "      <td>32.000000</td>\n",
       "      <td>32.000000</td>\n",
       "      <td>32.000000</td>\n",
       "    </tr>\n",
       "    <tr>\n",
       "      <th>mean</th>\n",
       "      <td>3.596563</td>\n",
       "      <td>3.217250</td>\n",
       "      <td>17.848750</td>\n",
       "    </tr>\n",
       "    <tr>\n",
       "      <th>std</th>\n",
       "      <td>0.534679</td>\n",
       "      <td>0.978457</td>\n",
       "      <td>1.786943</td>\n",
       "    </tr>\n",
       "    <tr>\n",
       "      <th>min</th>\n",
       "      <td>2.760000</td>\n",
       "      <td>1.513000</td>\n",
       "      <td>14.500000</td>\n",
       "    </tr>\n",
       "    <tr>\n",
       "      <th>25%</th>\n",
       "      <td>3.080000</td>\n",
       "      <td>2.581250</td>\n",
       "      <td>16.892500</td>\n",
       "    </tr>\n",
       "    <tr>\n",
       "      <th>50%</th>\n",
       "      <td>3.695000</td>\n",
       "      <td>3.325000</td>\n",
       "      <td>17.710000</td>\n",
       "    </tr>\n",
       "    <tr>\n",
       "      <th>75%</th>\n",
       "      <td>3.920000</td>\n",
       "      <td>3.610000</td>\n",
       "      <td>18.900000</td>\n",
       "    </tr>\n",
       "    <tr>\n",
       "      <th>max</th>\n",
       "      <td>4.930000</td>\n",
       "      <td>5.424000</td>\n",
       "      <td>22.900000</td>\n",
       "    </tr>\n",
       "  </tbody>\n",
       "</table></div>"
      ],
      "text/plain": [
       "          Points      Score      Weigh\n",
       "count  32.000000  32.000000  32.000000\n",
       "mean    3.596563   3.217250  17.848750\n",
       "std     0.534679   0.978457   1.786943\n",
       "min     2.760000   1.513000  14.500000\n",
       "25%     3.080000   2.581250  16.892500\n",
       "50%     3.695000   3.325000  17.710000\n",
       "75%     3.920000   3.610000  18.900000\n",
       "max     4.930000   5.424000  22.900000"
      ]
     },
     "execution_count": 44,
     "metadata": {},
     "output_type": "execute_result"
    }
   ],
   "source": [
    "# we can also use the describe inbuilt function to get statistics of the data\n",
    "\n",
    "df.describe()\n",
    "\n",
    "# but as of now for this question the median and mode were also asked so i went with the numpy and stats packages to draw required statistics"
   ]
  },
  {
   "cell_type": "code",
   "execution_count": 56,
   "metadata": {},
   "outputs": [
    {
     "name": "stdout",
     "output_type": "stream",
     "text": [
      "points_mean=3.5965625|points_median=3.6950000000000003|points_mode= 3.92\n",
      "score_mean=3.21725|score_median=3.325|score_mode= 3.44\n",
      "weigh_mean=17.84875|weigh_median=17.71|weigh_mode= 17.02\n"
     ]
    },
    {
     "data": {
      "text/plain": [
       "(None, None, None)"
      ]
     },
     "execution_count": 56,
     "metadata": {},
     "output_type": "execute_result"
    }
   ],
   "source": [
    "# now it's time to draw some inferences using the stats data\n",
    "\n",
    "print(\"points_mean=\",points_mean,sep=\"\",end=\"|\"),print(\"points_median=\",points_median,sep=\"\",end=\"|\"),print(\"points_mode=\",points_mode)\n",
    "print(\"score_mean=\",score_mean,sep=\"\",end=\"|\"),print(\"score_median=\",score_median,sep=\"\",end=\"|\"),print(\"score_mode=\",score_mode)\n",
    "print(\"weigh_mean=\",weigh_mean,sep=\"\",end=\"|\"),print(\"weigh_median=\",weigh_median,sep=\"\",end=\"|\"),print(\"weigh_mode=\",weigh_mode)\n",
    "\n",
    "# in the variable statistics of points there is gradual increase in the statistics value i.e mean<median<mode.hence, the data is negatively skewed\n",
    "\n",
    "# in the variable statistics of score there is gradual increase in the statistics value i.e mean<median<mode.hence, the data is negatively skewed\n",
    "\n",
    "# in the variable statistics of weigh there is gradual decrease in the statistics value i.e mode<median<mean.hence, the data is positively skewed"
   ]
  },
  {
   "cell_type": "code",
   "execution_count": 63,
   "metadata": {},
   "outputs": [
    {
     "name": "stdout",
     "output_type": "stream",
     "text": [
      "points_stdev=0.5346787360709715|score_stdev=0.9784574429896967|weigh_stdev=1.786943236096843|"
     ]
    }
   ],
   "source": [
    "print(\"points_stdev=\",points_stdev,sep=\"\",end=\"|\"),\n",
    "print(\"score_stdev=\",score_stdev,sep=\"\",end=\"|\"),\n",
    "print(\"weigh_stdev=\",weigh_stdev,sep=\"\",end=\"|\")\n",
    "\n",
    "# as we can see that the lowest deviated value in the variable is points continuing with the score and weight \n",
    "# i.e points_stdev>score_stdev>weigh_stdev.\n",
    "# we can say that the values in the point variable are almost same with -0.53 or +0.53\n",
    "# where as the score variable values are differing with -0.97 or +0.97\n",
    "# but the weigh variable has the highest deviation of -1.78 or +1.78 if yoou compare with the other variables\n"
   ]
  },
  {
   "cell_type": "code",
   "execution_count": 68,
   "metadata": {},
   "outputs": [
    {
     "name": "stdout",
     "output_type": "stream",
     "text": [
      "points_range=2.17|score_range=3.9110000000000005|weigh_range=8.399999999999999|"
     ]
    }
   ],
   "source": [
    "print(\"points_range=\",points_range,sep=\"\",end=\"|\"),\n",
    "print(\"score_range=\",score_range,sep=\"\",end=\"|\"),\n",
    "print(\"weigh_range=\",weigh_range,sep=\"\",end=\"|\")\n",
    "\n",
    "# as we know that range defines the width of the data\n",
    "# it is same as the above results because the higher the devation is the higher the range\n",
    "# i.e points_range>score_range>weigh_range\n",
    "# point variable has the lowest range among the others\n",
    "# with weigh variable having the highest range over the middle value range of score variable"
   ]
  }
 ],
 "metadata": {
  "kernelspec": {
   "display_name": "Python 3",
   "language": "python",
   "name": "python3"
  },
  "language_info": {
   "codemirror_mode": {
    "name": "ipython",
    "version": 3
   },
   "file_extension": ".py",
   "mimetype": "text/x-python",
   "name": "python",
   "nbconvert_exporter": "python",
   "pygments_lexer": "ipython3",
   "version": "3.11.1"
  },
  "orig_nbformat": 4
 },
 "nbformat": 4,
 "nbformat_minor": 2
}
